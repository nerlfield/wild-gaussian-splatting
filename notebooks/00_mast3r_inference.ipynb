{
 "cells": [
  {
   "cell_type": "code",
   "execution_count": null,
   "id": "7ed7213b-2168-4a21-af67-0b0fbc58bcd6",
   "metadata": {},
   "outputs": [],
   "source": [
    "import sys\n",
    "sys.path.append('../mast3r/')\n",
    "sys.path.append('../gaussian-splatting')\n",
    "sys.path.append('../src')"
   ]
  },
  {
   "cell_type": "code",
   "execution_count": null,
   "id": "9e1e3fb1-5769-47c2-a25e-317ce2a54ba1",
   "metadata": {},
   "outputs": [],
   "source": [
    "import os\n",
    "import torch\n",
    "from pathlib import Path\n",
    "import numpy as np\n",
    "\n",
    "from mast3r.utils.misc import hash_md5\n",
    "from mast3r.model import load_model\n",
    "from mast3r.cloud_opt.sparse_ga import sparse_global_alignment\n",
    "\n",
    "from dust3r.image_pairs import make_pairs\n",
    "from dust3r.utils.image import load_images\n",
    "from dust3r.utils.device import to_numpy\n",
    "\n",
    "try:\n",
    "    import lovely_tensors as lt\n",
    "except:\n",
    "    ! pip install --upgrade lovely-tensors\n",
    "    import lovely_tensors as lt\n",
    "    \n",
    "lt.monkey_patch()"
   ]
  },
  {
   "cell_type": "code",
   "execution_count": null,
   "id": "0f63a206-da77-4cf0-87a7-7a81a0acd86c",
   "metadata": {},
   "outputs": [],
   "source": [
    "device='cuda'\n",
    "model_path = \"../mast3r/checkpoints/MASt3R_ViTLarge_BaseDecoder_512_catmlpdpt_metric.pth\"\n",
    "outdir = \"./out_mast3r/\"\n",
    "image_size=512\n",
    "optim_level='refine+depth'\n",
    "lr1=0.07\n",
    "niter1=500\n",
    "lr2=0.014\n",
    "niter2=200\n",
    "min_conf_thr=1.5\n",
    "matching_conf_thr=5.0\n",
    "mask_sky=False\n",
    "clean_depth=True\n",
    "transparent_cams=False\n",
    "cam_size=0.2\n",
    "scenegraph_type='complete'\n",
    "winsize=1\n",
    "win_cyclic=False\n",
    "refid=0\n",
    "TSDF_thresh=0.0\n",
    "shared_intrinsics=False\n",
    "norm_scene=True\n",
    "mask_images = False\n",
    "\n",
    "scene_graph_params = [scenegraph_type]\n",
    "if scenegraph_type in [\"swin\", \"logwin\"]:\n",
    "    scene_graph_params.append(str(winsize))\n",
    "elif scenegraph_type == \"oneref\":\n",
    "    scene_graph_params.append(str(refid))\n",
    "if scenegraph_type in [\"swin\", \"logwin\"] and not win_cyclic:\n",
    "    scene_graph_params.append('noncyclic')\n",
    "scene_graph = '-'.join(scene_graph_params)\n",
    "\n",
    "chkpt_tag = hash_md5(model_path)\n",
    "outdir = os.path.join(outdir, chkpt_tag)\n",
    "os.makedirs(outdir, exist_ok=True)\n",
    "\n",
    "cache_dir = os.path.join(outdir, 'cache')\n",
    "os.makedirs(cache_dir, exist_ok=True)"
   ]
  },
  {
   "cell_type": "code",
   "execution_count": null,
   "id": "468407e6-a593-40ff-813e-1af427999d2a",
   "metadata": {},
   "outputs": [],
   "source": [
    "from pathlib import Path\n",
    "Path.ls = lambda x: list(x.iterdir())\n",
    "\n",
    "image_dir = Path('../data/images/turtle_imgs/')\n",
    "\n",
    "image_files = [str(x) for x in image_dir.ls() if x.suffix in ['.png', '.jpg']]\n",
    "image_files = sorted(image_files, key=lambda x: int(x.split('/')[-1].split('.')[0]))"
   ]
  },
  {
   "cell_type": "code",
   "execution_count": null,
   "id": "3148bd4c-9e43-4b88-b848-977297ac31af",
   "metadata": {},
   "outputs": [],
   "source": [
    "model = load_model(model_path, device)\n",
    "images = load_images(image_files, size=512)\n",
    "pairs = make_pairs(images, scene_graph=scene_graph, prefilter=None, symmetrize=True)"
   ]
  },
  {
   "cell_type": "code",
   "execution_count": null,
   "id": "7f824151-1611-43ce-a604-02beae4fc0f1",
   "metadata": {},
   "outputs": [],
   "source": [
    "scene = sparse_global_alignment(image_files, pairs, cache_dir,\n",
    "                                model, lr1=lr1, niter1=niter1, lr2=lr2, niter2=niter2, device=device,\n",
    "                                opt_depth='depth' in optim_level, shared_intrinsics=shared_intrinsics,\n",
    "                                matching_conf_thr=matching_conf_thr)"
   ]
  },
  {
   "cell_type": "code",
   "execution_count": null,
   "id": "ceebd27f-1f5b-4994-b664-b2cd5229259b",
   "metadata": {},
   "outputs": [],
   "source": [
    "from colmap_dataset_utils import inv\n",
    "\n",
    "cam2world = scene.get_im_poses().detach().cpu().numpy()\n",
    "world2cam = inv(cam2world) #\n",
    "principal_points = scene.get_principal_points().detach().cpu().numpy()\n",
    "focals = scene.get_focals().detach().cpu().numpy()[..., None]\n",
    "imgs = np.array(scene.imgs)\n",
    "\n",
    "pts3d, _, confs = scene.get_dense_pts3d(clean_depth=clean_depth)\n",
    "pts3d = [i.detach().reshape(imgs[0].shape) for i in pts3d] #\n",
    "\n",
    "masks = to_numpy([c > min_conf_thr for c in to_numpy(confs)])"
   ]
  },
  {
   "cell_type": "code",
   "execution_count": null,
   "id": "b1e7dbeb-98ca-4640-bf72-6bfea345aadd",
   "metadata": {},
   "outputs": [],
   "source": [
    "from colmap_dataset_utils import normalize_scene\n",
    "from copy import deepcopy\n",
    "\n",
    "pts_norm, c2w_norm = normalize_scene(deepcopy(pts3d), deepcopy(masks), deepcopy(cam2world))\n",
    "if norm_scene:\n",
    "    pts3d = pts_norm\n",
    "    world2cam = inv(np.array(c2w_norm))"
   ]
  },
  {
   "cell_type": "code",
   "execution_count": null,
   "id": "27d9afea-5188-40de-84c5-b56262c17300",
   "metadata": {},
   "outputs": [],
   "source": [
    "from visualisation import visualize_pcd, visualize_cameras\n",
    "fig = None\n",
    "\n",
    "num_to_show = 10_000\n",
    "num_of_valid = sum([m.sum() for m in masks])\n",
    "skip = num_of_valid // num_to_show\n",
    "\n",
    "for p, i, m, c2w in zip(pts_norm, imgs, masks, c2w_norm):\n",
    "    fig = visualize_pcd(p[m].cpu().numpy(), i[m], skip=skip, show=False, size=2, fig=fig)\n",
    "    R, T = np.transpose(c2w[None, :3, :3], (0, 2, 1)), c2w[None, :, 3]\n",
    "    fig = visualize_cameras(R, T, fig=fig, show=False, radius=2, size=0.2)\n",
    "    \n",
    "fig"
   ]
  },
  {
   "cell_type": "markdown",
   "id": "a7a90b03-4474-4053-a745-4c5c2e0f4b82",
   "metadata": {},
   "source": [
    "# Construct colmap dataset"
   ]
  },
  {
   "cell_type": "markdown",
   "id": "9c60dd67-0845-40d7-a906-e74902ed7954",
   "metadata": {},
   "source": [
    "After convertion such data sctructure should appear\n",
    "\n",
    "```\n",
    "│   │   │   ├── images\n",
    "│   │   │   ├── masks\n",
    "│   │   │   ├── sparse/0\n",
    "|   |   |   |    |------cameras.bin\n",
    "|   |   |   |    |------images.bin\n",
    "|   |   |   |    |------points3D.bin\n",
    "|   |   |   |    |------points3D.ply\n",
    "```"
   ]
  },
  {
   "cell_type": "code",
   "execution_count": null,
   "id": "b92e7a02-71b0-4f2c-85f1-ac474a8d8632",
   "metadata": {},
   "outputs": [],
   "source": [
    "save_dir = Path('../data/scenes/turtle_mast3r')\n",
    "save_dir.mkdir(exist_ok=True, parents=True)"
   ]
  },
  {
   "cell_type": "code",
   "execution_count": null,
   "id": "c15a9013-36d8-4d5a-983a-1928ce36ab8e",
   "metadata": {},
   "outputs": [],
   "source": [
    "from colmap_dataset_utils import (\n",
    "    init_filestructure,\n",
    "    save_images_masks,\n",
    "    save_cameras,\n",
    "    save_imagestxt,\n",
    "    save_pointcloud,\n",
    "    save_pointcloud_with_normals\n",
    ")\n",
    "\n",
    "save_path, images_path, masks_path, sparse_path = init_filestructure(save_dir)\n",
    "save_images_masks(imgs, masks, images_path, masks_path, mask_images)\n",
    "save_cameras(focals, principal_points, sparse_path, imgs_shape=imgs.shape)\n",
    "save_imagestxt(world2cam, sparse_path)\n",
    "# save_pointcloud(imgs, pts3d, masks, sparse_path)\n",
    "save_pointcloud_with_normals(imgs, pts3d, masks, sparse_path)"
   ]
  }
 ],
 "metadata": {
  "kernelspec": {
   "display_name": "Python 3 (ipykernel)",
   "language": "python",
   "name": "python3"
  },
  "language_info": {
   "codemirror_mode": {
    "name": "ipython",
    "version": 3
   },
   "file_extension": ".py",
   "mimetype": "text/x-python",
   "name": "python",
   "nbconvert_exporter": "python",
   "pygments_lexer": "ipython3",
   "version": "3.11.9"
  }
 },
 "nbformat": 4,
 "nbformat_minor": 5
}
